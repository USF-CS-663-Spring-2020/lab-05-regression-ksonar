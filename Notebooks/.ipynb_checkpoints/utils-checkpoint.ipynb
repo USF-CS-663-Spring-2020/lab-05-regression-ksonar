{
 "cells": [
  {
   "cell_type": "code",
   "execution_count": 2,
   "metadata": {},
   "outputs": [],
   "source": [
    "class Regression:\n",
    "    def __init__(self, X, y, df):\n",
    "        self.X = X\n",
    "        self.y = y\n",
    "        self.df = df\n",
    "    \n",
    "    def get_X(self):\n",
    "        return self.X\n",
    "    \n",
    "    def get_y(self):\n",
    "        return self.y\n",
    "    \n",
    "    def plot_scatter_and_residual(self, feature, target):\n",
    "        plt.figure(figsize=(15,8))\n",
    "        plt.subplot(1,2,1)\n",
    "        sns.scatterplot(x=feature, y=target, data=self.df, marker='+', s=75)\n",
    "        plt.title('Predictor against Target')\n",
    "        plt.subplot(1,2,2)\n",
    "        sns.residplot(x=feature, y=target, data=self.df)\n",
    "        plt.title('Residual against target')"
   ]
  },
  {
   "cell_type": "code",
   "execution_count": null,
   "metadata": {},
   "outputs": [],
   "source": []
  }
 ],
 "metadata": {
  "kernelspec": {
   "display_name": "Python 3",
   "language": "python",
   "name": "python3"
  },
  "language_info": {
   "codemirror_mode": {
    "name": "ipython",
    "version": 3
   },
   "file_extension": ".py",
   "mimetype": "text/x-python",
   "name": "python",
   "nbconvert_exporter": "python",
   "pygments_lexer": "ipython3",
   "version": "3.7.4"
  }
 },
 "nbformat": 4,
 "nbformat_minor": 2
}
